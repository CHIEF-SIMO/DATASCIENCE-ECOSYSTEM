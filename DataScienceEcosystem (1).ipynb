{
 "cells": [
  {
   "cell_type": "markdown",
   "id": "4181cc83-f0ad-4837-a990-82de04b318ea",
   "metadata": {},
   "source": [
    "# Data Science Tools and Ecosystem"
   ]
  },
  {
   "cell_type": "markdown",
   "id": "61bf933c-9ea8-4dac-890f-46cae13d69c4",
   "metadata": {},
   "source": [
    "In this notebook, Data Science Tools and Ecosystem are summarized."
   ]
  },
  {
   "cell_type": "markdown",
   "id": "192d8a23-84a6-4afa-859f-d34521581985",
   "metadata": {},
   "source": [
    "**Objectives: **\n",
    "\n",
    "* SQL\n",
    "* Python\n",
    "* R Language\n",
    "* Scala"
   ]
  },
  {
   "cell_type": "markdown",
   "id": "c3961a5b-65e6-46db-ae1b-b7210a8443bf",
   "metadata": {},
   "source": [
    "Some of the popular languages that Data Scientists use are:\n",
    "    \n",
    "    1. R Language\n",
    "    2. SQL\n",
    "    3. Python\n",
    "    4. Scala"
   ]
  },
  {
   "cell_type": "markdown",
   "id": "53828fe5-0058-4539-a6a6-04e44ab0db26",
   "metadata": {},
   "source": [
    "Some of the commonly used libraries used by Data Scientists include:\n",
    "\n",
    "* Tensorflow\n",
    "* Scikit-Learn\n",
    "* Pytorch\n",
    "* Pandas\n",
    "* NumPy\n"
   ]
  },
  {
   "cell_type": "markdown",
   "id": "0da6113f-7f15-4745-beed-2eaddf1f3683",
   "metadata": {},
   "source": [
    "|Data Science Tools|\n",
    "|------------------|\n",
    "|RStudio           |\n",
    "|Jupyter Notebook  |\n",
    "|Apache Zeppelin   |"
   ]
  },
  {
   "cell_type": "markdown",
   "id": "20deb4b2-e9e9-41f1-96d5-bd6988602f31",
   "metadata": {},
   "source": [
    "### Below are a few examples of evaluating arithmetic expressions in Python\n"
   ]
  },
  {
   "cell_type": "code",
   "execution_count": 2,
   "id": "a4eb340d-7f31-4f52-9c78-4b3e0178cee3",
   "metadata": {
    "tags": []
   },
   "outputs": [
    {
     "data": {
      "text/plain": [
       "17"
      ]
     },
     "execution_count": 2,
     "metadata": {},
     "output_type": "execute_result"
    }
   ],
   "source": [
    "# This a simple arithmetic expression to mutiply then add integers\n",
    "(3*4)+5"
   ]
  },
  {
   "cell_type": "code",
   "execution_count": 4,
   "id": "bee810da-7fb5-4e44-8b24-f1d530ad7788",
   "metadata": {
    "tags": []
   },
   "outputs": [
    {
     "data": {
      "text/plain": [
       "3.3333333333333335"
      ]
     },
     "execution_count": 4,
     "metadata": {},
     "output_type": "execute_result"
    }
   ],
   "source": [
    "# This will convert 200 minutes to hours by diving by 60\n",
    "# Convert 200 minutes into hours\n",
    "minutes = 200\n",
    "hours = minutes / 60\n",
    "hours"
   ]
  },
  {
   "cell_type": "markdown",
   "id": "3b117115-a968-4cdb-ad6a-84b1b11b6f7b",
   "metadata": {},
   "source": [
    "##Author\n",
    "\n",
    "Akor Simon"
   ]
  },
  {
   "cell_type": "code",
   "execution_count": null,
   "id": "258d4e5f-a0f5-47a9-9dbc-6b22e5dc97eb",
   "metadata": {},
   "outputs": [],
   "source": []
  }
 ],
 "metadata": {
  "kernelspec": {
   "display_name": "Python",
   "language": "python",
   "name": "conda-env-python-py"
  },
  "language_info": {
   "codemirror_mode": {
    "name": "ipython",
    "version": 3
   },
   "file_extension": ".py",
   "mimetype": "text/x-python",
   "name": "python",
   "nbconvert_exporter": "python",
   "pygments_lexer": "ipython3",
   "version": "3.7.12"
  }
 },
 "nbformat": 4,
 "nbformat_minor": 5
}
